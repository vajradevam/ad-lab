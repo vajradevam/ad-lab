{
 "cells": [
  {
   "cell_type": "code",
   "execution_count": 4,
   "metadata": {},
   "outputs": [],
   "source": [
    "import numpy as np"
   ]
  },
  {
   "cell_type": "code",
   "execution_count": 5,
   "metadata": {},
   "outputs": [
    {
     "name": "stdout",
     "output_type": "stream",
     "text": [
      "1D Array:\n",
      " [1 2 3 4 5]\n"
     ]
    }
   ],
   "source": [
    "# 1. Creating NumPy Arrays\n",
    "# Create a 1D array\n",
    "array_1d = np.array([1, 2, 3, 4, 5])\n",
    "print(\"1D Array:\\n\", array_1d)"
   ]
  },
  {
   "cell_type": "code",
   "execution_count": 6,
   "metadata": {},
   "outputs": [
    {
     "name": "stdout",
     "output_type": "stream",
     "text": [
      "\n",
      "2D Array (Matrix):\n",
      " [[1 2 3]\n",
      " [4 5 6]\n",
      " [7 8 9]]\n"
     ]
    }
   ],
   "source": [
    "# Create a 2D array (matrix)\n",
    "array_2d = np.array([[1, 2, 3], [4, 5, 6], [7, 8, 9]])\n",
    "print(\"\\n2D Array (Matrix):\\n\", array_2d)"
   ]
  },
  {
   "cell_type": "code",
   "execution_count": 7,
   "metadata": {},
   "outputs": [
    {
     "name": "stdout",
     "output_type": "stream",
     "text": [
      "\n",
      "Array of Zeros:\n",
      " [[0. 0. 0.]\n",
      " [0. 0. 0.]\n",
      " [0. 0. 0.]]\n"
     ]
    }
   ],
   "source": [
    "# Create an array of zeros\n",
    "zeros_array = np.zeros((3, 3))\n",
    "print(\"\\nArray of Zeros:\\n\", zeros_array)"
   ]
  },
  {
   "cell_type": "code",
   "execution_count": 8,
   "metadata": {},
   "outputs": [
    {
     "name": "stdout",
     "output_type": "stream",
     "text": [
      "\n",
      "Array of Ones:\n",
      " [[1. 1. 1. 1.]\n",
      " [1. 1. 1. 1.]]\n"
     ]
    }
   ],
   "source": [
    "# Create an array of ones\n",
    "ones_array = np.ones((2, 4))\n",
    "print(\"\\nArray of Ones:\\n\", ones_array)"
   ]
  },
  {
   "cell_type": "code",
   "execution_count": 9,
   "metadata": {},
   "outputs": [
    {
     "name": "stdout",
     "output_type": "stream",
     "text": [
      "\n",
      "Identity Matrix:\n",
      " [[1. 0. 0.]\n",
      " [0. 1. 0.]\n",
      " [0. 0. 1.]]\n"
     ]
    }
   ],
   "source": [
    "# Create an identity matrix\n",
    "identity_matrix = np.eye(3)\n",
    "print(\"\\nIdentity Matrix:\\n\", identity_matrix)"
   ]
  },
  {
   "cell_type": "code",
   "execution_count": 10,
   "metadata": {},
   "outputs": [
    {
     "name": "stdout",
     "output_type": "stream",
     "text": [
      "\n",
      "Array with Range of Values:\n",
      " [0 2 4 6 8]\n"
     ]
    }
   ],
   "source": [
    "\n",
    "# Create an array with a range of values\n",
    "range_array = np.arange(0, 10, 2)\n",
    "print(\"\\nArray with Range of Values:\\n\", range_array)\n"
   ]
  },
  {
   "cell_type": "code",
   "execution_count": 11,
   "metadata": {},
   "outputs": [
    {
     "name": "stdout",
     "output_type": "stream",
     "text": [
      "\n",
      "Array with Evenly Spaced Values:\n",
      " [0.   0.25 0.5  0.75 1.  ]\n"
     ]
    }
   ],
   "source": [
    "# Create an array with evenly spaced values\n",
    "linspace_array = np.linspace(0, 1, 5)\n",
    "print(\"\\nArray with Evenly Spaced Values:\\n\", linspace_array)"
   ]
  },
  {
   "cell_type": "code",
   "execution_count": 12,
   "metadata": {},
   "outputs": [
    {
     "name": "stdout",
     "output_type": "stream",
     "text": [
      "\n",
      "Element-wise Addition:\n",
      " [11 12 13 14 15]\n"
     ]
    }
   ],
   "source": [
    "# 2. Array Operations\n",
    "# Element-wise addition\n",
    "addition = array_1d + 10\n",
    "print(\"\\nElement-wise Addition:\\n\", addition)"
   ]
  },
  {
   "cell_type": "code",
   "execution_count": 13,
   "metadata": {},
   "outputs": [
    {
     "name": "stdout",
     "output_type": "stream",
     "text": [
      "\n",
      "Element-wise Multiplication:\n",
      " [ 2  4  6  8 10]\n"
     ]
    }
   ],
   "source": [
    "# Element-wise multiplication\n",
    "multiplication = array_1d * 2\n",
    "print(\"\\nElement-wise Multiplication:\\n\", multiplication)"
   ]
  },
  {
   "cell_type": "code",
   "execution_count": 14,
   "metadata": {},
   "outputs": [
    {
     "name": "stdout",
     "output_type": "stream",
     "text": [
      "\n",
      "Matrix Multiplication:\n",
      " [[ 30  36  42]\n",
      " [ 66  81  96]\n",
      " [102 126 150]]\n"
     ]
    }
   ],
   "source": [
    "# Matrix multiplication\n",
    "matrix_multiplication = np.dot(array_2d, array_2d)\n",
    "print(\"\\nMatrix Multiplication:\\n\", matrix_multiplication)"
   ]
  },
  {
   "cell_type": "code",
   "execution_count": 15,
   "metadata": {},
   "outputs": [
    {
     "name": "stdout",
     "output_type": "stream",
     "text": [
      "\n",
      "Transpose of Matrix:\n",
      " [[1 4 7]\n",
      " [2 5 8]\n",
      " [3 6 9]]\n"
     ]
    }
   ],
   "source": [
    "# Transpose of a matrix\n",
    "transpose_matrix = array_2d.T\n",
    "print(\"\\nTranspose of Matrix:\\n\", transpose_matrix)"
   ]
  },
  {
   "cell_type": "code",
   "execution_count": 16,
   "metadata": {},
   "outputs": [
    {
     "name": "stdout",
     "output_type": "stream",
     "text": [
      "\n",
      "Element at index 2 in 1D array: 3\n",
      "Element at row 1, column 2 in 2D array: 6\n"
     ]
    }
   ],
   "source": [
    "# 3. Array Indexing and Slicing\n",
    "# Accessing elements\n",
    "print(\"\\nElement at index 2 in 1D array:\", array_1d[2])\n",
    "print(\"Element at row 1, column 2 in 2D array:\", array_2d[1, 2])"
   ]
  },
  {
   "cell_type": "code",
   "execution_count": 17,
   "metadata": {},
   "outputs": [
    {
     "name": "stdout",
     "output_type": "stream",
     "text": [
      "\n",
      "Slice of 1D array (from index 1 to 3): [2 3 4]\n",
      "Slice of 2D array (first two rows, all columns):\n",
      " [[1 2 3]\n",
      " [4 5 6]]\n"
     ]
    }
   ],
   "source": [
    "# Slicing\n",
    "print(\"\\nSlice of 1D array (from index 1 to 3):\", array_1d[1:4])\n",
    "print(\"Slice of 2D array (first two rows, all columns):\\n\", array_2d[:2, :])"
   ]
  },
  {
   "cell_type": "code",
   "execution_count": 18,
   "metadata": {},
   "outputs": [
    {
     "name": "stdout",
     "output_type": "stream",
     "text": [
      "\n",
      "Sum of all elements in 2D array: 45\n"
     ]
    }
   ],
   "source": [
    "# 4. Array Aggregations\n",
    "# Sum of all elements\n",
    "sum_all = np.sum(array_2d)\n",
    "print(\"\\nSum of all elements in 2D array:\", sum_all)"
   ]
  },
  {
   "cell_type": "code",
   "execution_count": 19,
   "metadata": {},
   "outputs": [
    {
     "name": "stdout",
     "output_type": "stream",
     "text": [
      "Mean of all elements in 2D array: 5.0\n"
     ]
    }
   ],
   "source": [
    "# Mean of all elements\n",
    "mean_all = np.mean(array_2d)\n",
    "print(\"Mean of all elements in 2D array:\", mean_all)"
   ]
  },
  {
   "cell_type": "code",
   "execution_count": 20,
   "metadata": {},
   "outputs": [
    {
     "name": "stdout",
     "output_type": "stream",
     "text": [
      "Maximum element in 2D array: 9\n"
     ]
    }
   ],
   "source": [
    "# Maximum element\n",
    "max_element = np.max(array_2d)\n",
    "print(\"Maximum element in 2D array:\", max_element)"
   ]
  },
  {
   "cell_type": "code",
   "execution_count": 21,
   "metadata": {},
   "outputs": [
    {
     "name": "stdout",
     "output_type": "stream",
     "text": [
      "Minimum element in 2D array: 1\n"
     ]
    }
   ],
   "source": [
    "# Minimum element\n",
    "min_element = np.min(array_2d)\n",
    "print(\"Minimum element in 2D array:\", min_element)"
   ]
  },
  {
   "cell_type": "code",
   "execution_count": 22,
   "metadata": {},
   "outputs": [
    {
     "name": "stdout",
     "output_type": "stream",
     "text": [
      "\n",
      "Reshaped 1D array to 2D array:\n",
      " [[1]\n",
      " [2]\n",
      " [3]\n",
      " [4]\n",
      " [5]]\n"
     ]
    }
   ],
   "source": [
    "# 5. Reshaping Arrays\n",
    "# Reshape a 1D array to a 2D array\n",
    "reshaped_array = array_1d.reshape(5, 1)\n",
    "print(\"\\nReshaped 1D array to 2D array:\\n\", reshaped_array)"
   ]
  },
  {
   "cell_type": "code",
   "execution_count": 23,
   "metadata": {},
   "outputs": [
    {
     "name": "stdout",
     "output_type": "stream",
     "text": [
      "\n",
      "Flattened 2D array to 1D array:\n",
      " [1 2 3 4 5 6 7 8 9]\n"
     ]
    }
   ],
   "source": [
    "# Flatten a 2D array to a 1D array\n",
    "flattened_array = array_2d.flatten()\n",
    "print(\"\\nFlattened 2D array to 1D array:\\n\", flattened_array)"
   ]
  },
  {
   "cell_type": "code",
   "execution_count": 24,
   "metadata": {},
   "outputs": [
    {
     "name": "stdout",
     "output_type": "stream",
     "text": [
      "\n",
      "Random numbers from a uniform distribution:\n",
      " [[0.8104674  0.5645179  0.9352909 ]\n",
      " [0.17861114 0.88949367 0.34364989]\n",
      " [0.12242294 0.3432634  0.9883867 ]]\n"
     ]
    }
   ],
   "source": [
    "# 6. Random Number Generation\n",
    "# Generate random numbers from a uniform distribution\n",
    "random_uniform = np.random.rand(3, 3)\n",
    "print(\"\\nRandom numbers from a uniform distribution:\\n\", random_uniform)"
   ]
  },
  {
   "cell_type": "code",
   "execution_count": 25,
   "metadata": {},
   "outputs": [
    {
     "name": "stdout",
     "output_type": "stream",
     "text": [
      "\n",
      "Random numbers from a normal distribution:\n",
      " [[ 1.11692311 -0.33228704  1.54577151]\n",
      " [-0.22027297  0.31229809  1.16258219]\n",
      " [-1.46551832 -0.76138076 -0.04409807]]\n"
     ]
    }
   ],
   "source": [
    "# Generate random numbers from a normal distribution\n",
    "random_normal = np.random.randn(3, 3)\n",
    "print(\"\\nRandom numbers from a normal distribution:\\n\", random_normal)"
   ]
  },
  {
   "cell_type": "code",
   "execution_count": 26,
   "metadata": {},
   "outputs": [
    {
     "name": "stdout",
     "output_type": "stream",
     "text": [
      "\n",
      "Random integers between 0 and 10:\n",
      " [[4 9 7]\n",
      " [1 1 1]\n",
      " [4 8 0]]\n"
     ]
    }
   ],
   "source": [
    "# Generate random integers\n",
    "random_integers = np.random.randint(0, 10, (3, 3))\n",
    "print(\"\\nRandom integers between 0 and 10:\\n\", random_integers)"
   ]
  },
  {
   "cell_type": "code",
   "execution_count": 27,
   "metadata": {},
   "outputs": [
    {
     "name": "stdout",
     "output_type": "stream",
     "text": [
      "\n",
      "Broadcasting Example:\n",
      " [11 22 33 44 55]\n"
     ]
    }
   ],
   "source": [
    "# 7. Advanced Operations\n",
    "# Broadcasting\n",
    "broadcasted_array = array_1d + np.array([10, 20, 30, 40, 50])\n",
    "print(\"\\nBroadcasting Example:\\n\", broadcasted_array)"
   ]
  },
  {
   "cell_type": "code",
   "execution_count": 28,
   "metadata": {},
   "outputs": [
    {
     "name": "stdout",
     "output_type": "stream",
     "text": [
      "\n",
      "Square root of each element in 1D array:\n",
      " [1.         1.41421356 1.73205081 2.         2.23606798]\n"
     ]
    }
   ],
   "source": [
    "# Vectorized operations\n",
    "vectorized_sqrt = np.sqrt(array_1d)\n",
    "print(\"\\nSquare root of each element in 1D array:\\n\", vectorized_sqrt)"
   ]
  },
  {
   "cell_type": "code",
   "execution_count": 29,
   "metadata": {},
   "outputs": [
    {
     "name": "stdout",
     "output_type": "stream",
     "text": [
      "\n",
      "Conditional Operation (elements > 3):\n",
      " [0 0 0 4 5]\n"
     ]
    }
   ],
   "source": [
    "# Conditional operations\n",
    "conditional_array = np.where(array_1d > 3, array_1d, 0)\n",
    "print(\"\\nConditional Operation (elements > 3):\\n\", conditional_array)"
   ]
  },
  {
   "cell_type": "code",
   "execution_count": 30,
   "metadata": {},
   "outputs": [],
   "source": [
    "# 8. Saving and Loading Arrays\n",
    "# Save an array to a file\n",
    "np.save('saved_array.npy', array_2d)"
   ]
  },
  {
   "cell_type": "code",
   "execution_count": 31,
   "metadata": {},
   "outputs": [
    {
     "name": "stdout",
     "output_type": "stream",
     "text": [
      "\n",
      "Loaded Array from File:\n",
      " [[1 2 3]\n",
      " [4 5 6]\n",
      " [7 8 9]]\n"
     ]
    }
   ],
   "source": [
    "# Load an array from a file\n",
    "loaded_array = np.load('saved_array.npy')\n",
    "print(\"\\nLoaded Array from File:\\n\", loaded_array)"
   ]
  }
 ],
 "metadata": {
  "kernelspec": {
   "display_name": "Python 3 (ipykernel)",
   "language": "python",
   "name": "python3"
  },
  "language_info": {
   "codemirror_mode": {
    "name": "ipython",
    "version": 3
   },
   "file_extension": ".py",
   "mimetype": "text/x-python",
   "name": "python",
   "nbconvert_exporter": "python",
   "pygments_lexer": "ipython3",
   "version": "3.10.9"
  }
 },
 "nbformat": 4,
 "nbformat_minor": 4
}
