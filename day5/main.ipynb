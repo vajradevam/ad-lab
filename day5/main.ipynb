{
 "cells": [
  {
   "cell_type": "code",
   "execution_count": 1,
   "metadata": {},
   "outputs": [
    {
     "data": {
      "text/plain": [
       "('2.2.1', '2.2.3')"
      ]
     },
     "execution_count": 1,
     "metadata": {},
     "output_type": "execute_result"
    }
   ],
   "source": [
    "import numpy as np\n",
    "import pandas as pd\n",
    "\n",
    "np.__version__, pd.__version__"
   ]
  },
  {
   "cell_type": "code",
   "execution_count": 2,
   "metadata": {},
   "outputs": [],
   "source": [
    "np.__version__ = 25"
   ]
  },
  {
   "cell_type": "code",
   "execution_count": 3,
   "metadata": {},
   "outputs": [
    {
     "data": {
      "text/plain": [
       "25"
      ]
     },
     "execution_count": 3,
     "metadata": {},
     "output_type": "execute_result"
    }
   ],
   "source": [
    "np.__version__"
   ]
  },
  {
   "cell_type": "code",
   "execution_count": 4,
   "metadata": {},
   "outputs": [
    {
     "data": {
      "text/plain": [
       "a    1\n",
       "b    2\n",
       "c    3\n",
       "d    4\n",
       "e    5\n",
       "f    6\n",
       "g    7\n",
       "h    8\n",
       "dtype: int64"
      ]
     },
     "execution_count": 4,
     "metadata": {},
     "output_type": "execute_result"
    }
   ],
   "source": [
    "s = pd.Series(\n",
    "    [1, 2, 3, 4, 5, 6, 7, 8],\n",
    "    index = ['a', 'b', 'c', 'd', 'e', 'f', 'g', 'h']\n",
    ")\n",
    "\n",
    "s"
   ]
  },
  {
   "cell_type": "code",
   "execution_count": 5,
   "metadata": {},
   "outputs": [
    {
     "data": {
      "text/html": [
       "<div>\n",
       "<style scoped>\n",
       "    .dataframe tbody tr th:only-of-type {\n",
       "        vertical-align: middle;\n",
       "    }\n",
       "\n",
       "    .dataframe tbody tr th {\n",
       "        vertical-align: top;\n",
       "    }\n",
       "\n",
       "    .dataframe thead th {\n",
       "        text-align: right;\n",
       "    }\n",
       "</style>\n",
       "<table border=\"1\" class=\"dataframe\">\n",
       "  <thead>\n",
       "    <tr style=\"text-align: right;\">\n",
       "      <th></th>\n",
       "      <th>Name</th>\n",
       "      <th>Age</th>\n",
       "      <th>City</th>\n",
       "    </tr>\n",
       "  </thead>\n",
       "  <tbody>\n",
       "    <tr>\n",
       "      <th>0</th>\n",
       "      <td>Alice</td>\n",
       "      <td>25</td>\n",
       "      <td>New York</td>\n",
       "    </tr>\n",
       "    <tr>\n",
       "      <th>1</th>\n",
       "      <td>Bob</td>\n",
       "      <td>30</td>\n",
       "      <td>Los Angeles</td>\n",
       "    </tr>\n",
       "    <tr>\n",
       "      <th>2</th>\n",
       "      <td>Charlie</td>\n",
       "      <td>35</td>\n",
       "      <td>Chicago</td>\n",
       "    </tr>\n",
       "  </tbody>\n",
       "</table>\n",
       "</div>"
      ],
      "text/plain": [
       "      Name  Age         City\n",
       "0    Alice   25     New York\n",
       "1      Bob   30  Los Angeles\n",
       "2  Charlie   35      Chicago"
      ]
     },
     "execution_count": 5,
     "metadata": {},
     "output_type": "execute_result"
    }
   ],
   "source": [
    "data = {\n",
    "    \"Name\": [\"Alice\", \"Bob\", \"Charlie\"],\n",
    "    \"Age\": [25, 30, 35],\n",
    "    \"City\": [\"New York\", \"Los Angeles\", \"Chicago\"]\n",
    "}\n",
    "\n",
    "df = pd.DataFrame(data)\n",
    "\n",
    "df"
   ]
  },
  {
   "cell_type": "code",
   "execution_count": 6,
   "metadata": {},
   "outputs": [
    {
     "data": {
      "text/plain": [
       "array([1, 2, 3, 4])"
      ]
     },
     "execution_count": 6,
     "metadata": {},
     "output_type": "execute_result"
    }
   ],
   "source": [
    "arr = np.array([1, 2, 3, 4])\n",
    "arr"
   ]
  },
  {
   "cell_type": "code",
   "execution_count": 7,
   "metadata": {},
   "outputs": [
    {
     "data": {
      "text/plain": [
       "((2, 2), 2, dtype('int64'))"
      ]
     },
     "execution_count": 7,
     "metadata": {},
     "output_type": "execute_result"
    }
   ],
   "source": [
    "arr = np.array([[1, 2], [3, 4]])\n",
    "\n",
    "arr.shape, arr.ndim, arr.dtype"
   ]
  },
  {
   "cell_type": "code",
   "execution_count": 8,
   "metadata": {},
   "outputs": [],
   "source": [
    "xs = np.array([1, 2, 3])\n",
    "ys = np.array([4, 5, 6])"
   ]
  },
  {
   "cell_type": "markdown",
   "metadata": {},
   "source": [
    "- elementwise mathematical operations"
   ]
  },
  {
   "cell_type": "code",
   "execution_count": 9,
   "metadata": {},
   "outputs": [
    {
     "data": {
      "text/plain": [
       "array([5, 7, 9])"
      ]
     },
     "execution_count": 9,
     "metadata": {},
     "output_type": "execute_result"
    }
   ],
   "source": [
    "xs + ys"
   ]
  },
  {
   "cell_type": "code",
   "execution_count": 10,
   "metadata": {},
   "outputs": [
    {
     "data": {
      "text/plain": [
       "array([ 4, 10, 18])"
      ]
     },
     "execution_count": 10,
     "metadata": {},
     "output_type": "execute_result"
    }
   ],
   "source": [
    "xs * ys"
   ]
  },
  {
   "cell_type": "code",
   "execution_count": 11,
   "metadata": {},
   "outputs": [
    {
     "data": {
      "text/plain": [
       "array([-3, -3, -3])"
      ]
     },
     "execution_count": 11,
     "metadata": {},
     "output_type": "execute_result"
    }
   ],
   "source": [
    "xs - ys"
   ]
  },
  {
   "cell_type": "code",
   "execution_count": 12,
   "metadata": {},
   "outputs": [
    {
     "data": {
      "text/plain": [
       "array([0.25, 0.4 , 0.5 ])"
      ]
     },
     "execution_count": 12,
     "metadata": {},
     "output_type": "execute_result"
    }
   ],
   "source": [
    "xs / ys"
   ]
  },
  {
   "cell_type": "code",
   "execution_count": 13,
   "metadata": {},
   "outputs": [],
   "source": [
    "z = np.zeros((2, 8))"
   ]
  },
  {
   "cell_type": "code",
   "execution_count": 14,
   "metadata": {},
   "outputs": [
    {
     "data": {
      "text/plain": [
       "array([[0., 0., 0., 0., 0., 0., 0., 0.],\n",
       "       [0., 0., 0., 0., 0., 0., 0., 0.]])"
      ]
     },
     "execution_count": 14,
     "metadata": {},
     "output_type": "execute_result"
    }
   ],
   "source": [
    "z\n"
   ]
  },
  {
   "cell_type": "code",
   "execution_count": 15,
   "metadata": {},
   "outputs": [
    {
     "data": {
      "text/plain": [
       "array([[4., 4., 4., 4., 4., 4., 4., 4.],\n",
       "       [4., 4., 4., 4., 4., 4., 4., 4.]])"
      ]
     },
     "execution_count": 15,
     "metadata": {},
     "output_type": "execute_result"
    }
   ],
   "source": [
    "z = z + 4\n",
    "z"
   ]
  },
  {
   "cell_type": "code",
   "execution_count": 16,
   "metadata": {},
   "outputs": [
    {
     "data": {
      "text/plain": [
       "(array([[0., 0., 0., 0., 0., 0., 0., 0.],\n",
       "        [0., 0., 0., 0., 0., 0., 0., 0.]]),\n",
       " array([[1., 1., 1., 1., 1., 1., 1., 1.],\n",
       "        [1., 1., 1., 1., 1., 1., 1., 1.]]))"
      ]
     },
     "execution_count": 16,
     "metadata": {},
     "output_type": "execute_result"
    }
   ],
   "source": [
    "k = np.zeros_like(z)\n",
    "l = np.ones_like(z)\n",
    "k, l"
   ]
  },
  {
   "cell_type": "code",
   "execution_count": 17,
   "metadata": {},
   "outputs": [
    {
     "data": {
      "text/plain": [
       "array([ 0.        ,  0.90909091,  1.81818182,  2.72727273,  3.63636364,\n",
       "        4.54545455,  5.45454545,  6.36363636,  7.27272727,  8.18181818,\n",
       "        9.09090909, 10.        ])"
      ]
     },
     "execution_count": 17,
     "metadata": {},
     "output_type": "execute_result"
    }
   ],
   "source": [
    "nums = np.linspace(0, 10, 12)\n",
    "nums"
   ]
  },
  {
   "cell_type": "code",
   "execution_count": 18,
   "metadata": {},
   "outputs": [
    {
     "data": {
      "text/plain": [
       "array([0, 2, 4, 6, 8])"
      ]
     },
     "execution_count": 18,
     "metadata": {},
     "output_type": "execute_result"
    }
   ],
   "source": [
    "ts = np.arange(0, 10, 2)\n",
    "ts"
   ]
  },
  {
   "cell_type": "code",
   "execution_count": 19,
   "metadata": {},
   "outputs": [
    {
     "data": {
      "text/plain": [
       "((3, 2), 2, dtype('int64'), 6)"
      ]
     },
     "execution_count": 19,
     "metadata": {},
     "output_type": "execute_result"
    }
   ],
   "source": [
    "arr = np.array([[1, 2], [3, 4], [5, 6]])\n",
    "arr.shape, arr.ndim, arr.dtype, arr.size"
   ]
  },
  {
   "cell_type": "code",
   "execution_count": 20,
   "metadata": {},
   "outputs": [
    {
     "data": {
      "text/plain": [
       "(np.int64(20),\n",
       " array([20, 30, 40]),\n",
       " array([40]),\n",
       " array([10]),\n",
       " array([10, 20, 30]))"
      ]
     },
     "execution_count": 20,
     "metadata": {},
     "output_type": "execute_result"
    }
   ],
   "source": [
    "arr = np.array([10, 20, 30, 40])\n",
    "arr[1], arr[1:], arr[-1:], arr[:1], arr[:-1]"
   ]
  },
  {
   "cell_type": "code",
   "execution_count": 21,
   "metadata": {},
   "outputs": [
    {
     "data": {
      "text/plain": [
       "array([20, 40])"
      ]
     },
     "execution_count": 21,
     "metadata": {},
     "output_type": "execute_result"
    }
   ],
   "source": [
    "arr[[1, 3]]"
   ]
  },
  {
   "cell_type": "code",
   "execution_count": 22,
   "metadata": {},
   "outputs": [
    {
     "name": "stdout",
     "output_type": "stream",
     "text": [
      "[4 5]\n"
     ]
    }
   ],
   "source": [
    "arr = np.array([1, 2, 3, 4, 5])\n",
    "print(arr[arr > 3])\n"
   ]
  },
  {
   "cell_type": "code",
   "execution_count": 23,
   "metadata": {},
   "outputs": [
    {
     "name": "stdout",
     "output_type": "stream",
     "text": [
      "[1 2 3 4 5 6]\n",
      "#---\n",
      "[[1 2 3]\n",
      " [4 5 6]]\n"
     ]
    }
   ],
   "source": [
    "arr = np.arange(1, 7)\n",
    "print(arr)\n",
    "print(\"#---\")\n",
    "reshaped = arr.reshape(2, 3)\n",
    "print(reshaped)"
   ]
  },
  {
   "cell_type": "code",
   "execution_count": 24,
   "metadata": {},
   "outputs": [
    {
     "name": "stdout",
     "output_type": "stream",
     "text": [
      "[1 2 3 4 5 6]\n"
     ]
    }
   ],
   "source": [
    "flattened = reshaped.ravel()\n",
    "print(flattened)\n"
   ]
  },
  {
   "cell_type": "code",
   "execution_count": 25,
   "metadata": {},
   "outputs": [
    {
     "name": "stdout",
     "output_type": "stream",
     "text": [
      "[[1 2]\n",
      " [3 4]]\n"
     ]
    }
   ],
   "source": [
    "arr1 = np.array([1, 2])\n",
    "arr2 = np.array([3, 4])\n",
    "print(np.vstack((arr1, arr2)))"
   ]
  },
  {
   "cell_type": "code",
   "execution_count": 26,
   "metadata": {},
   "outputs": [
    {
     "name": "stdout",
     "output_type": "stream",
     "text": [
      "[1 2 3 4]\n"
     ]
    }
   ],
   "source": [
    "print(np.hstack((arr1, arr2)))\n"
   ]
  },
  {
   "cell_type": "code",
   "execution_count": 27,
   "metadata": {},
   "outputs": [
    {
     "name": "stdout",
     "output_type": "stream",
     "text": [
      "[array([1, 2, 3]), array([4, 5, 6])]\n"
     ]
    }
   ],
   "source": [
    "arr = np.array([1, 2, 3, 4, 5, 6])\n",
    "print(np.split(arr, 2))"
   ]
  },
  {
   "cell_type": "code",
   "execution_count": 28,
   "metadata": {},
   "outputs": [
    {
     "name": "stdout",
     "output_type": "stream",
     "text": [
      "Sum: 10\n",
      "Mean: 2.5\n",
      "Std Dev: 1.118033988749895\n"
     ]
    }
   ],
   "source": [
    "arr = np.array([1, 2, 3, 4])\n",
    "print(\"Sum:\", arr.sum())\n",
    "print(\"Mean:\", arr.mean())\n",
    "print(\"Std Dev:\", arr.std())"
   ]
  },
  {
   "cell_type": "code",
   "execution_count": 29,
   "metadata": {},
   "outputs": [
    {
     "name": "stdout",
     "output_type": "stream",
     "text": [
      "[[19 22]\n",
      " [43 50]]\n"
     ]
    }
   ],
   "source": [
    "a = np.array([[1, 2], [3, 4]])\n",
    "b = np.array([[5, 6], [7, 8]])\n",
    "print(np.dot(a, b))"
   ]
  },
  {
   "cell_type": "code",
   "execution_count": 30,
   "metadata": {},
   "outputs": [
    {
     "name": "stdout",
     "output_type": "stream",
     "text": [
      "Determinant: -2.0000000000000004\n",
      "Eigenvalues: EigResult(eigenvalues=array([-0.37228132,  5.37228132]), eigenvectors=array([[-0.82456484, -0.41597356],\n",
      "       [ 0.56576746, -0.90937671]]))\n"
     ]
    }
   ],
   "source": [
    "from numpy.linalg import det, eig\n",
    "print(\"Determinant:\", det(a))\n",
    "print(\"Eigenvalues:\", eig(a))"
   ]
  },
  {
   "cell_type": "markdown",
   "metadata": {},
   "source": [
    "- high performance code using vectors, exploiting DLP"
   ]
  },
  {
   "cell_type": "code",
   "execution_count": null,
   "metadata": {},
   "outputs": [],
   "source": [
    "arr = np.arange(1_000_000)\n",
    "%timeit arr + 1"
   ]
  },
  {
   "cell_type": "code",
   "execution_count": 54,
   "metadata": {},
   "outputs": [
    {
     "name": "stdout",
     "output_type": "stream",
     "text": [
      "             Age        Income\n",
      "count   4.000000      4.000000\n",
      "mean   32.500000  65000.000000\n",
      "std     6.454972  12909.944487\n",
      "min    25.000000  50000.000000\n",
      "25%    28.750000  57500.000000\n",
      "50%    32.500000  65000.000000\n",
      "75%    36.250000  72500.000000\n",
      "max    40.000000  80000.000000\n"
     ]
    }
   ],
   "source": [
    "import pandas as pd\n",
    "df = pd.DataFrame({\n",
    "    \"Age\": [25, 30, 35, 40],\n",
    "    \"Income\": [50000, 60000, 70000, 80000]\n",
    "})\n",
    "print(df.describe())  # Summary statistics\n"
   ]
  },
  {
   "cell_type": "code",
   "execution_count": 55,
   "metadata": {},
   "outputs": [
    {
     "data": {
      "image/png": "[encoded data removed]",
      "text/plain": [
       "<Figure size 640x480 with 1 Axes>"
      ]
     },
     "metadata": {},
     "output_type": "display_data"
    }
   ],
   "source": [
    "import matplotlib.pyplot as plt\n",
    "df[\"Age\"].plot(kind=\"hist\", bins=5, title=\"Age Distribution\")\n",
    "plt.show()"
   ]
  },
  {
   "cell_type": "code",
   "execution_count": 56,
   "metadata": {},
   "outputs": [
    {
     "name": "stdout",
     "output_type": "stream",
     "text": [
      "        Age  Income\n",
      "Age     1.0     1.0\n",
      "Income  1.0     1.0\n"
     ]
    }
   ],
   "source": [
    "correlation = df.corr()\n",
    "print(correlation)"
   ]
  },
  {
   "cell_type": "code",
   "execution_count": 57,
   "metadata": {},
   "outputs": [
    {
     "name": "stdout",
     "output_type": "stream",
     "text": [
      "   Age  Income\n",
      "0   25   50000\n",
      "1   30   60000\n",
      "2   35   70000\n",
      "3   40   80000\n"
     ]
    },
    {
     "name": "stderr",
     "output_type": "stream",
     "text": [
      "/tmp/ipykernel_3602/865410746.py:2: FutureWarning: Series.fillna with 'method' is deprecated and will raise in a future version. Use obj.ffill() or obj.bfill() instead.\n",
      "  df[\"Income\"] = df[\"Income\"].fillna(method=\"ffill\")  # Forward-fill\n"
     ]
    }
   ],
   "source": [
    "df[\"Age\"] = df[\"Age\"].fillna(df[\"Age\"].mean())  # Fill with mean\n",
    "df[\"Income\"] = df[\"Income\"].fillna(method=\"ffill\")  # Forward-fill\n",
    "print(df)"
   ]
  },
  {
   "cell_type": "code",
   "execution_count": 58,
   "metadata": {},
   "outputs": [
    {
     "name": "stdout",
     "output_type": "stream",
     "text": [
      "         2421 function calls (2391 primitive calls) in 0.032 seconds\n",
      "\n",
      "   Ordered by: standard name\n",
      "\n",
      "   ncalls  tottime  percall  cumtime  percall filename:lineno(function)\n",
      "      2/1    0.000    0.000    0.030    0.030 2336242327.py:4(process_data)\n",
      "        3    0.000    0.000    0.000    0.000 <frozen _collections_abc>:104(_check_methods)\n",
      "        2    0.000    0.000    0.000    0.000 <frozen _collections_abc>:288(__subclasshook__)\n",
      "        1    0.000    0.000    0.000    0.000 <frozen _collections_abc>:407(__subclasshook__)\n",
      "        8    0.000    0.000    0.000    0.000 <frozen abc>:117(__instancecheck__)\n",
      "        5    0.000    0.000    0.000    0.000 <frozen abc>:121(__subclasscheck__)\n",
      "        5    0.000    0.000    0.000    0.000 <frozen importlib._bootstrap>:1390(_handle_fromlist)\n",
      "      2/1    0.001    0.000    0.031    0.031 <string>:1(<module>)\n",
      "        1    0.000    0.000    0.001    0.001 __init__.py:226(compile)\n",
      "        1    0.000    0.000    0.001    0.001 __init__.py:280(_compile)\n",
      "        8    0.000    0.000    0.000    0.000 __init__.py:34(using_copy_on_write)\n",
      "        3    0.000    0.000    0.000    0.000 __init__.py:42(warn_copy_on_write)\n",
      "        3    0.000    0.000    0.000    0.000 __init__.py:55(using_pyarrow_string_dtype)\n",
      "        1    0.000    0.000    0.000    0.000 _asarray.py:27(require)\n",
      "        1    0.000    0.000    0.000    0.000 _base.py:337(_invoke_callbacks)\n",
      "        1    0.000    0.000    0.000    0.000 _base.py:537(set_result)\n",
      "        1    0.000    0.000    0.000    0.000 _compiler.py:37(_compile)\n",
      "        2    0.000    0.000    0.000    0.000 _compiler.py:433(_get_iscased)\n",
      "        1    0.000    0.000    0.000    0.000 _compiler.py:441(_get_literal_prefix)\n",
      "        1    0.000    0.000    0.000    0.000 _compiler.py:472(_get_charset_prefix)\n",
      "        1    0.000    0.000    0.000    0.000 _compiler.py:516(_compile_info)\n",
      "        2    0.000    0.000    0.000    0.000 _compiler.py:575(isstring)\n",
      "        1    0.000    0.000    0.000    0.000 _compiler.py:578(_code)\n",
      "        1    0.000    0.000    0.001    0.001 _compiler.py:745(compile)\n",
      "        1    0.000    0.000    0.000    0.000 _function_base_impl.py:5452(_insert_dispatcher)\n",
      "        1    0.000    0.000    0.000    0.000 _function_base_impl.py:5456(insert)\n",
      "        2    0.000    0.000    0.000    0.000 _function_base_impl.py:5640(_append_dispatcher)\n",
      "        2    0.000    0.000    0.000    0.000 _function_base_impl.py:5644(append)\n",
      "        1    0.000    0.000    0.000    0.000 _parser.py:113(__init__)\n",
      "        1    0.000    0.000    0.000    0.000 _parser.py:164(__len__)\n",
      "       60    0.000    0.000    0.000    0.000 _parser.py:168(__getitem__)\n",
      "       60    0.000    0.000    0.000    0.000 _parser.py:176(append)\n",
      "        1    0.000    0.000    0.000    0.000 _parser.py:178(getwidth)\n",
      "        1    0.000    0.000    0.000    0.000 _parser.py:231(__init__)\n",
      "       61    0.000    0.000    0.000    0.000 _parser.py:240(__next)\n",
      "        1    0.000    0.000    0.000    0.000 _parser.py:256(match)\n",
      "       60    0.000    0.000    0.000    0.000 _parser.py:261(get)\n",
      "        1    0.000    0.000    0.000    0.000 _parser.py:293(tell)\n",
      "        1    0.000    0.000    0.000    0.000 _parser.py:452(_parse_sub)\n",
      "        1    0.000    0.000    0.000    0.000 _parser.py:512(_parse)\n",
      "        1    0.000    0.000    0.000    0.000 _parser.py:77(__init__)\n",
      "        2    0.000    0.000    0.000    0.000 _parser.py:83(groups)\n",
      "        1    0.000    0.000    0.000    0.000 _parser.py:953(fix_flags)\n",
      "        1    0.000    0.000    0.000    0.000 _parser.py:969(parse)\n",
      "        1    0.000    0.000    0.000    0.000 _ufunc_config.py:430(__init__)\n",
      "        1    0.000    0.000    0.000    0.000 _ufunc_config.py:440(__enter__)\n",
      "        1    0.000    0.000    0.000    0.000 _ufunc_config.py:456(__exit__)\n",
      "        1    0.000    0.000    0.000    0.000 api.py:386(default_index)\n",
      "        1    0.000    0.000    0.004    0.004 array_ops.py:189(_na_arithmetic_op)\n",
      "        1    0.000    0.000    0.004    0.004 array_ops.py:240(arithmetic_op)\n",
      "        1    0.000    0.000    0.000    0.000 array_ops.py:507(maybe_prepare_scalar_for_op)\n",
      "        1    0.000    0.000    0.000    0.000 array_ops.py:594(_bool_arith_check)\n",
      "        1    0.000    0.000    0.005    0.005 arraylike.py:98(__add__)\n",
      "        1    0.000    0.000    0.003    0.003 asyncio.py:200(_handle_events)\n",
      "        1    0.000    0.000    0.000    0.000 asyncio.py:225(add_callback)\n",
      "        5    0.000    0.000    0.000    0.000 attrsettr.py:43(__getattr__)\n",
      "        5    0.000    0.000    0.000    0.000 attrsettr.py:66(_get_attr_opt)\n",
      "        1    0.000    0.000    0.005    0.005 base.py:1371(_arith_method)\n",
      "        1    0.000    0.000    0.000    0.000 base.py:1671(name)\n",
      "        1    0.000    0.000    0.000    0.000 base.py:2313(is_unique)\n",
      "        1    0.000    0.000    0.000    0.000 base.py:2776(_is_multi)\n",
      "        2    0.000    0.000    0.000    0.000 base.py:363(ndim)\n",
      "        3    0.000    0.000    0.000    0.000 base.py:3777(get_loc)\n",
      "        2    0.000    0.000    0.000    0.000 base.py:3809(<genexpr>)\n",
      "        1    0.000    0.000    0.000    0.000 base.py:456(_engine_type)\n",
      "        2    0.000    0.000    0.001    0.000 base.py:475(__new__)\n",
      "        5    0.000    0.000    0.000    0.000 base.py:5144(_values)\n",
      "        1    0.000    0.000    0.000    0.000 base.py:5170(_get_engine_target)\n",
      "        1    0.000    0.000    0.000    0.000 base.py:5295(_validate_fill_value)\n",
      "        3    0.000    0.000    0.000    0.000 base.py:5323(__contains__)\n",
      "        4    0.000    0.000    0.000    0.000 base.py:5373(__getitem__)\n",
      "        2    0.000    0.000    0.000    0.000 base.py:540(<genexpr>)\n",
      "        2    0.000    0.000    0.000    0.000 base.py:591(_ensure_array)\n",
      "        2    0.000    0.000    0.000    0.000 base.py:609(_dtype_to_subclass)\n",
      "        2    0.000    0.000    0.000    0.000 base.py:649(_simple_new)\n",
      "        3    0.000    0.000    0.000    0.000 base.py:6672(_maybe_cast_indexer)\n",
      "        1    0.000    0.000    0.000    0.000 base.py:674(_with_infer)\n",
      "        1    0.000    0.000    0.001    0.001 base.py:6956(insert)\n",
      "        4    0.000    0.000    0.000    0.000 base.py:7593(ensure_index)\n",
      "        3    0.000    0.000    0.000    0.000 base.py:7688(maybe_extract_name)\n",
      "        1    0.000    0.000    0.000    0.000 base.py:82(shape)\n",
      "        3    0.000    0.000    0.000    0.000 base.py:831(_reset_identity)\n",
      "        3    0.000    0.000    0.000    0.000 base.py:84(<genexpr>)\n",
      "        1    0.000    0.000    0.000    0.000 base.py:842(_engine)\n",
      "        1    0.000    0.000    0.000    0.000 base.py:86(_validate_set_axis)\n",
      "        3    0.000    0.000    0.000    0.000 base.py:909(__len__)\n",
      "        2    0.000    0.000    0.000    0.000 base.py:974(dtype)\n",
      "        2    0.000    0.000    0.000    0.000 base_events.py:1900(_add_callback)\n",
      "        3    0.000    0.000    0.004    0.001 base_events.py:1915(_run_once)\n",
      "        5    0.000    0.000    0.000    0.000 base_events.py:2010(get_debug)\n",
      "        3    0.000    0.000    0.000    0.000 base_events.py:538(_check_closed)\n",
      "        1    0.000    0.000    0.000    0.000 base_events.py:719(is_closed)\n",
      "        5    0.000    0.000    0.000    0.000 base_events.py:733(time)\n",
      "        2    0.000    0.000    0.000    0.000 base_events.py:784(call_soon)\n",
      "        3    0.000    0.000    0.000    0.000 base_events.py:813(_call_soon)\n",
      "        1    0.000    0.000    0.000    0.000 base_events.py:837(call_soon_threadsafe)\n",
      "        2    0.000    0.000    0.000    0.000 blocks.py:1253(iget)\n",
      "        2    0.000    0.000    0.000    0.000 blocks.py:214(is_extension)\n",
      "        2    0.000    0.000    0.000    0.000 blocks.py:2645(maybe_coerce_values)\n",
      "        3    0.000    0.000    0.000    0.000 blocks.py:2674(get_block_type)\n",
      "        1    0.000    0.000    0.000    0.000 blocks.py:2703(new_block_2d)\n",
      "        1    0.000    0.000    0.000    0.000 blocks.py:2716(new_block)\n",
      "        1    0.000    0.000    0.000    0.000 blocks.py:2811(ensure_block_shape)\n",
      "        2    0.000    0.000    0.000    0.000 cast.py:1156(maybe_infer_to_datetimelike)\n",
      "        1    0.000    0.000    0.000    0.000 cast.py:123(maybe_convert_platform)\n",
      "        1    0.000    0.000    0.000    0.000 cast.py:1579(construct_1d_object_array_from_listlike)\n",
      "        1    0.000    0.000    0.000    0.000 cast.py:1604(maybe_cast_to_integer_array)\n",
      "        1    0.000    0.000    0.000    0.000 cast.py:1760(np_can_hold_element)\n",
      "        1    0.000    0.000    0.000    0.000 common.py:103(_maybe_match_name)\n",
      "        1    0.000    0.000    0.000    0.000 common.py:1040(needs_i8_conversion)\n",
      "        3    0.000    0.000    0.000    0.000 common.py:1270(is_1d_only_ea_dtype)\n",
      "        4    0.000    0.000    0.000    0.000 common.py:1331(is_ea_or_datetimelike_dtype)\n",
      "        4    0.000    0.000    0.000    0.000 common.py:152(cast_scalar_indexer)\n",
      "        2    0.000    0.000    0.000    0.000 common.py:1571(validate_all_hashable)\n",
      "        4    0.000    0.000    0.000    0.000 common.py:1590(<genexpr>)\n",
      "        1    0.000    0.000    0.000    0.000 common.py:1596(pandas_dtype)\n",
      "        1    0.000    0.000    0.000    0.000 common.py:231(asarray_tuplesafe)\n",
      "        2    0.000    0.000    0.000    0.000 common.py:301(maybe_iterable_to_list)\n",
      "        3    0.000    0.000    0.000    0.000 common.py:372(apply_if_callable)\n",
      "        3    0.000    0.000    0.000    0.000 common.py:568(require_length_match)\n",
      "        1    0.000    0.000    0.005    0.005 common.py:62(new_method)\n",
      "        1    0.000    0.000    0.000    0.000 common.py:81(get_op_result_name)\n",
      "        1    0.000    0.000    0.000    0.000 concurrent.py:182(future_set_result_unless_cancelled)\n",
      "        2    0.000    0.000    0.000    0.000 config.py:127(_get_single_key)\n",
      "        2    0.000    0.000    0.000    0.000 config.py:145(_get_option)\n",
      "        2    0.000    0.000    0.000    0.000 config.py:617(_select_options)\n",
      "        2    0.000    0.000    0.000    0.000 config.py:635(_get_root)\n",
      "        2    0.000    0.000    0.000    0.000 config.py:649(_get_deprecated_option)\n",
      "        2    0.000    0.000    0.000    0.000 config.py:676(_translate_key)\n",
      "        1    0.000    0.000    0.000    0.000 construction.py:196(mgr_to_mgr)\n",
      "        6    0.000    0.000    0.000    0.000 construction.py:416(extract_array)\n",
      "        1    0.001    0.001    0.018    0.018 construction.py:423(dict_to_mgr)\n",
      "        5    0.000    0.000    0.000    0.000 construction.py:481(ensure_wrapped_if_datetimelike)\n",
      "        5    0.000    0.000    0.004    0.001 construction.py:517(sanitize_array)\n",
      "        1    0.000    0.000    0.010    0.010 construction.py:596(_homogenize)\n",
      "        1    0.000    0.000    0.000    0.000 construction.py:638(_extract_index)\n",
      "        2    0.000    0.000    0.004    0.002 construction.py:669(range_to_ndarray)\n",
      "        1    0.000    0.000    0.000    0.000 construction.py:688(_sanitize_non_ordered)\n",
      "        5    0.000    0.000    0.000    0.000 construction.py:696(_sanitize_ndim)\n",
      "        5    0.000    0.000    0.000    0.000 construction.py:735(_sanitize_str_dtypes)\n",
      "        5    0.000    0.000    0.000    0.000 construction.py:758(_maybe_repeat)\n",
      "        1    0.000    0.000    0.000    0.000 construction.py:769(_try_cast)\n",
      "        1    0.000    0.000    0.018    0.018 construction.py:96(arrays_to_mgr)\n",
      "        1    0.000    0.000    0.000    0.000 decorator.py:199(fix)\n",
      "        1    0.000    0.000    0.009    0.009 decorator.py:229(fun)\n",
      "        1    0.000    0.000    0.000    0.000 dispatch.py:17(should_extension_dispatch)\n",
      "       33    0.000    0.000    0.000    0.000 enum.py:1123(__new__)\n",
      "        1    0.000    0.000    0.000    0.000 enum.py:1286(value)\n",
      "       78    0.000    0.000    0.000    0.000 enum.py:1538(_get_value)\n",
      "       16    0.000    0.000    0.000    0.000 enum.py:1545(__or__)\n",
      "       10    0.000    0.000    0.000    0.000 enum.py:1556(__and__)\n",
      "        1    0.000    0.000    0.000    0.000 enum.py:202(__get__)\n",
      "       33    0.000    0.000    0.000    0.000 enum.py:720(__call__)\n",
      "        3    0.000    0.000    0.000    0.000 events.py:36(__init__)\n",
      "      5/2    0.000    0.000    0.003    0.002 events.py:86(_run)\n",
      "        1    0.000    0.000    0.004    0.004 expressions.py:226(evaluate)\n",
      "        1    0.000    0.000    0.004    0.004 expressions.py:67(_evaluate_standard)\n",
      "        4    0.000    0.000    0.000    0.000 flags.py:51(__init__)\n",
      "        3    0.000    0.000    0.000    0.000 flags.py:55(allows_duplicate_labels)\n",
      "        3    0.000    0.000    0.000    0.000 flags.py:87(allows_duplicate_labels)\n",
      "        1    0.000    0.000    0.004    0.004 frame.py:12675(_reindex_for_setitem)\n",
      "        1    0.000    0.000    0.000    0.000 frame.py:1643(__len__)\n",
      "        2    0.000    0.000    0.000    0.000 frame.py:3983(_ixs)\n",
      "        2    0.000    0.000    0.001    0.000 frame.py:4062(__getitem__)\n",
      "        1    0.000    0.000    0.006    0.006 frame.py:4271(__setitem__)\n",
      "        1    0.000    0.000    0.002    0.002 frame.py:4481(_set_item_mgr)\n",
      "        1    0.000    0.000    0.006    0.006 frame.py:4514(_set_item)\n",
      "        1    0.000    0.000    0.000    0.000 frame.py:4585(_ensure_valid_index)\n",
      "        2    0.000    0.000    0.000    0.000 frame.py:4608(_box_col_values)\n",
      "        2    0.000    0.000    0.000    0.000 frame.py:4626(_get_item_cache)\n",
      "        1    0.000    0.000    0.004    0.004 frame.py:5242(_sanitize_column)\n",
      "        2    0.000    0.000    0.000    0.000 frame.py:678(_constructor_sliced_from_mgr)\n",
      "        1    0.000    0.000    0.018    0.018 frame.py:694(__init__)\n",
      "        2    0.000    0.000    0.000    0.000 fromnumeric.py:1900(_ravel_dispatcher)\n",
      "        2    0.000    0.000    0.000    0.000 fromnumeric.py:1904(ravel)\n",
      "        1    0.000    0.000    0.000    0.000 futures.py:396(_call_set_state)\n",
      "        4    0.000    0.000    0.000    0.000 generic.py:278(__init__)\n",
      "        2    0.000    0.000    0.000    0.000 generic.py:339(_from_mgr)\n",
      "        3    0.000    0.000    0.000    0.000 generic.py:363(attrs)\n",
      "       31    0.000    0.000    0.000    0.000 generic.py:37(_check)\n",
      "        6    0.000    0.000    0.000    0.000 generic.py:405(flags)\n",
      "       31    0.000    0.000    0.000    0.000 generic.py:42(_instancecheck)\n",
      "        1    0.000    0.000    0.000    0.000 generic.py:4402(_check_setitem_copy)\n",
      "        1    0.000    0.000    0.000    0.000 generic.py:511(_validate_dtype)\n",
      "        3    0.000    0.000    0.000    0.000 generic.py:6236(__finalize__)\n",
      "        1    0.000    0.000    0.000    0.000 generic.py:6284(__getattr__)\n",
      "       10    0.000    0.000    0.000    0.000 generic.py:6301(__setattr__)\n",
      "        2    0.000    0.000    0.000    0.000 generic.py:667(_info_axis)\n",
      "        1    0.000    0.000    0.000    0.000 generic.py:807(_set_axis)\n",
      "        1    0.000    0.000    0.009    0.009 history.py:55(only_when_enabled)\n",
      "        1    0.000    0.000    0.003    0.003 history.py:833(_writeout_input_cache)\n",
      "        1    0.000    0.000    0.000    0.000 history.py:839(_writeout_output_cache)\n",
      "        1    0.000    0.000    0.003    0.003 history.py:845(writeout_cache)\n",
      "        2    0.000    0.000    0.000    0.000 indexing.py:2765(check_dict_or_set_indexers)\n",
      "        1    0.000    0.000    0.000    0.000 inference.py:273(is_dict_like)\n",
      "        4    0.000    0.000    0.000    0.000 inference.py:300(<genexpr>)\n",
      "        7    0.000    0.000    0.000    0.000 inference.py:334(is_hashable)\n",
      "        4    0.000    0.000    0.000    0.000 inspect.py:2796(name)\n",
      "       10    0.000    0.000    0.000    0.000 inspect.py:2808(kind)\n",
      "        1    0.000    0.000    0.000    0.000 inspect.py:2888(__init__)\n",
      "        1    0.000    0.000    0.000    0.000 inspect.py:2896(args)\n",
      "        1    0.000    0.000    0.000    0.000 inspect.py:2919(kwargs)\n",
      "        1    0.000    0.000    0.000    0.000 inspect.py:2949(apply_defaults)\n",
      "        4    0.000    0.000    0.000    0.000 inspect.py:3089(parameters)\n",
      "        1    0.000    0.000    0.000    0.000 inspect.py:3133(_bind)\n",
      "        1    0.000    0.000    0.000    0.000 inspect.py:3272(bind)\n",
      "        2    0.000    0.000    0.001    0.000 ioloop.py:742(_run_callback)\n",
      "        2    0.000    0.000    0.001    0.000 iostream.py:157(_handle_event)\n",
      "        2    0.000    0.000    0.000    0.000 iostream.py:213(_is_master_process)\n",
      "        2    0.000    0.000    0.000    0.000 iostream.py:216(_check_mp_mode)\n",
      "        2    0.000    0.000    0.000    0.000 iostream.py:255(closed)\n",
      "        2    0.000    0.000    0.000    0.000 iostream.py:276(<lambda>)\n",
      "        2    0.000    0.000    0.000    0.000 iostream.py:278(_really_send)\n",
      "        1    0.000    0.000    0.000    0.000 kernelbase.py:302(poll_control_queue)\n",
      "        1    0.000    0.000    0.000    0.000 kernelbase.py:324(_flush)\n",
      "        1    0.000    0.000    0.000    0.000 locks.py:224(clear)\n",
      "        2    0.000    0.000    0.000    0.000 managers.py:1012(iget)\n",
      "        1    0.000    0.000    0.002    0.002 managers.py:1347(insert)\n",
      "        3    0.000    0.000    0.000    0.000 managers.py:1392(<genexpr>)\n",
      "        1    0.000    0.000    0.000    0.000 managers.py:1402(_insert_update_mgr_locs)\n",
      "        1    0.000    0.000    0.000    0.000 managers.py:1412(_insert_update_blklocs_and_blknos)\n",
      "        1    0.000    0.000    0.000    0.000 managers.py:1764(is_consolidated)\n",
      "        1    0.000    0.000    0.000    0.000 managers.py:1772(_consolidate_check)\n",
      "        1    0.000    0.000    0.000    0.000 managers.py:1782(_consolidate_inplace)\n",
      "        3    0.000    0.000    0.000    0.000 managers.py:180(blknos)\n",
      "        3    0.000    0.000    0.000    0.000 managers.py:1837(__init__)\n",
      "        1    0.000    0.000    0.000    0.000 managers.py:1863(from_array)\n",
      "        3    0.000    0.000    0.000    0.000 managers.py:1940(_block)\n",
      "        3    0.000    0.000    0.000    0.000 managers.py:196(blklocs)\n",
      "        3    0.000    0.000    0.000    0.000 managers.py:2004(internal_values)\n",
      "        1    0.000    0.000    0.007    0.007 managers.py:2121(create_block_manager_from_column_arrays)\n",
      "        2    0.000    0.000    0.000    0.000 managers.py:2177(_grouping_func)\n",
      "        1    0.000    0.000    0.007    0.007 managers.py:2190(_form_blocks)\n",
      "        1    0.007    0.007    0.007    0.007 managers.py:2246(_stack_arrays)\n",
      "        1    0.000    0.000    0.000    0.000 managers.py:2311(_fast_count_smallints)\n",
      "        1    0.000    0.000    0.000    0.000 managers.py:236(set_axis)\n",
      "        1    0.000    0.000    0.000    0.000 managers.py:246(items)\n",
      "        1    0.000    0.000    0.000    0.000 managers.py:913(__init__)\n",
      "        1    0.000    0.000    0.000    0.000 missing.py:101(isna)\n",
      "        1    0.000    0.000    0.000    0.000 missing.py:131(dispatch_fill_zeros)\n",
      "        1    0.000    0.000    0.000    0.000 missing.py:184(_isna)\n",
      "        1    0.000    0.000    0.000    0.000 missing.py:728(is_valid_na_for_dtype)\n",
      "        4    0.000    0.000    0.000    0.000 multiarray.py:1098(copyto)\n",
      "        2    0.000    0.000    0.000    0.000 multiarray.py:180(concatenate)\n",
      "        1    0.000    0.000    0.000    0.000 multiarray.py:919(bincount)\n",
      "        2    0.000    0.000    0.000    0.000 numeric.py:1386(normalize_axis_tuple)\n",
      "        1    0.000    0.000    0.000    0.000 numeric.py:1444(_moveaxis_dispatcher)\n",
      "        1    0.000    0.000    0.000    0.000 numeric.py:1448(moveaxis)\n",
      "        4    0.000    0.000    0.000    0.000 numeric.py:290(full)\n",
      "        1    0.000    0.000    0.000    0.000 poll.py:31(register)\n",
      "        1    0.000    0.000    0.000    0.000 poll.py:80(poll)\n",
      "        4    0.000    0.000    0.000    0.000 queue.py:209(_qsize)\n",
      "        4    0.000    0.000    0.000    0.000 queue.py:97(empty)\n",
      "        1    0.000    0.000    0.000    0.000 queues.py:173(qsize)\n",
      "        1    0.000    0.000    0.000    0.000 queues.py:177(empty)\n",
      "        1    0.000    0.000    0.000    0.000 queues.py:186(put)\n",
      "        1    0.000    0.000    0.000    0.000 queues.py:209(put_nowait)\n",
      "        1    0.000    0.000    0.000    0.000 queues.py:225(get)\n",
      "        1    0.000    0.000    0.000    0.000 queues.py:256(get_nowait)\n",
      "        1    0.000    0.000    0.000    0.000 queues.py:309(_get)\n",
      "        1    0.000    0.000    0.000    0.000 queues.py:312(_put)\n",
      "        1    0.000    0.000    0.000    0.000 queues.py:317(__put_internal)\n",
      "        2    0.000    0.000    0.000    0.000 queues.py:322(_consume_expired)\n",
      "        1    0.000    0.000    0.000    0.000 queues.py:59(_set_timeout)\n",
      "        1    0.000    0.000    0.000    0.000 range.py:201(_simple_new)\n",
      "        2    0.000    0.000    0.000    0.000 range.py:553(equals)\n",
      "        9    0.000    0.000    0.000    0.000 range.py:999(__len__)\n",
      "        1    0.000    0.000    0.000    0.000 selector_events.py:129(_read_from_self)\n",
      "        1    0.000    0.000    0.000    0.000 selector_events.py:141(_write_to_self)\n",
      "        4    0.000    0.000    0.000    0.000 selector_events.py:750(_process_events)\n",
      "        2    0.000    0.000    0.000    0.000 selectors.py:275(_key_from_fd)\n",
      "      2/1    0.000    0.000    0.000    0.000 selectors.py:451(select)\n",
      "        2    0.000    0.000    0.000    0.000 series.py:1471(_set_as_cached)\n",
      "        1    0.000    0.000    0.000    0.000 series.py:1480(_clear_item_cache)\n",
      "        1    0.000    0.000    0.000    0.000 series.py:389(__init__)\n",
      "        1    0.000    0.000    0.005    0.005 series.py:6133(_arith_method)\n",
      "        1    0.000    0.000    0.000    0.000 series.py:6137(_align_for_op)\n",
      "        1    0.000    0.000    0.000    0.000 series.py:6201(_construct_result)\n",
      "        1    0.000    0.000    0.000    0.000 series.py:660(_constructor)\n",
      "        8    0.000    0.000    0.000    0.000 series.py:734(name)\n",
      "        2    0.000    0.000    0.000    0.000 series.py:784(name)\n",
      "        3    0.000    0.000    0.000    0.000 series.py:831(_values)\n",
      "       14    0.000    0.000    0.000    0.000 socket.py:626(send)\n",
      "        2    0.000    0.000    0.000    0.000 socket.py:703(send_multipart)\n",
      "        2    0.000    0.000    0.000    0.000 socket.py:774(recv_multipart)\n",
      "        3    0.000    0.000    0.000    0.000 threading.py:299(__enter__)\n",
      "        3    0.000    0.000    0.000    0.000 threading.py:302(__exit__)\n",
      "        1    0.000    0.000    0.000    0.000 threading.py:308(_release_save)\n",
      "        1    0.000    0.000    0.000    0.000 threading.py:311(_acquire_restore)\n",
      "        1    0.000    0.000    0.000    0.000 threading.py:314(_is_owned)\n",
      "        1    0.000    0.000    0.000    0.000 threading.py:394(notify)\n",
      "        1    0.000    0.000    0.000    0.000 threading.py:424(notify_all)\n",
      "        1    0.000    0.000    0.000    0.000 threading.py:627(clear)\n",
      "        1    0.000    0.000    0.000    0.000 traitlets.py:1512(_notify_trait)\n",
      "        1    0.000    0.000    0.000    0.000 traitlets.py:1523(notify_change)\n",
      "        1    0.000    0.000    0.000    0.000 traitlets.py:1527(_notify_observers)\n",
      "        2    0.000    0.000    0.000    0.000 traitlets.py:2304(validate)\n",
      "        2    0.000    0.000    0.000    0.000 traitlets.py:3474(validate)\n",
      "        2    0.000    0.000    0.000    0.000 traitlets.py:3486(validate_elements)\n",
      "        2    0.000    0.000    0.000    0.000 traitlets.py:3624(validate_elements)\n",
      "        2    0.000    0.000    0.000    0.000 traitlets.py:3631(set)\n",
      "        8    0.000    0.000    0.000    0.000 traitlets.py:629(get)\n",
      "        8    0.000    0.000    0.000    0.000 traitlets.py:676(__get__)\n",
      "        2    0.000    0.000    0.000    0.000 traitlets.py:689(set)\n",
      "        2    0.000    0.000    0.000    0.000 traitlets.py:708(__set__)\n",
      "        2    0.000    0.000    0.000    0.000 traitlets.py:718(_validate)\n",
      "        2    0.000    0.000    0.000    0.000 traitlets.py:727(_cross_validate)\n",
      "        2    0.000    0.000    0.000    0.000 typing.py:1221(__instancecheck__)\n",
      "        4    0.000    0.000    0.000    0.000 typing.py:1285(__hash__)\n",
      "        2    0.000    0.000    0.000    0.000 typing.py:1492(__subclasscheck__)\n",
      "       39    0.000    0.000    0.000    0.000 typing.py:2183(cast)\n",
      "        6    0.000    0.000    0.000    0.000 typing.py:392(inner)\n",
      "        1    0.000    0.000    0.000    0.000 unix_events.py:81(_process_self_data)\n",
      "        2    0.000    0.000    0.001    0.001 warnings.py:133(filterwarnings)\n",
      "        2    0.000    0.000    0.000    0.000 warnings.py:184(_add_filter)\n",
      "        3    0.000    0.000    0.000    0.000 warnings.py:458(__init__)\n",
      "        3    0.000    0.000    0.000    0.000 warnings.py:484(__enter__)\n",
      "        3    0.000    0.000    0.000    0.000 warnings.py:505(__exit__)\n",
      "        1    0.000    0.000    0.000    0.000 zmqstream.py:427(flush)\n",
      "        1    0.000    0.000    0.000    0.000 zmqstream.py:468(update_flag)\n",
      "        5    0.000    0.000    0.000    0.000 zmqstream.py:538(receiving)\n",
      "        4    0.000    0.000    0.000    0.000 zmqstream.py:542(sending)\n",
      "        2    0.000    0.000    0.001    0.000 zmqstream.py:556(_run_callback)\n",
      "        2    0.000    0.000    0.003    0.001 zmqstream.py:583(_handle_events)\n",
      "        2    0.001    0.001    0.002    0.001 zmqstream.py:624(_handle_recv)\n",
      "        1    0.000    0.000    0.000    0.000 zmqstream.py:659(_check_closed)\n",
      "        3    0.000    0.000    0.000    0.000 zmqstream.py:663(_rebuild_io_state)\n",
      "        3    0.000    0.000    0.000    0.000 zmqstream.py:686(_update_handler)\n",
      "        1    0.000    0.000    0.000    0.000 zmqstream.py:694(<lambda>)\n",
      "        5    0.000    0.000    0.000    0.000 {built-in method __new__ of type object at 0x772777f845c0}\n",
      "        8    0.000    0.000    0.000    0.000 {built-in method _abc._abc_instancecheck}\n",
      "        5    0.000    0.000    0.000    0.000 {built-in method _abc._abc_subclasscheck}\n",
      "        1    0.000    0.000    0.000    0.000 {built-in method _asyncio.get_running_loop}\n",
      "        2    0.000    0.000    0.000    0.000 {built-in method _contextvars.copy_context}\n",
      "        1    0.004    0.004    0.004    0.004 {built-in method _operator.add}\n",
      "        2    0.000    0.000    0.000    0.000 {built-in method _operator.index}\n",
      "        1    0.000    0.000    0.000    0.000 {built-in method _sre.compile}\n",
      "       61    0.000    0.000    0.000    0.000 {built-in method _sre.unicode_iscased}\n",
      "       51    0.000    0.000    0.000    0.000 {built-in method _sre.unicode_tolower}\n",
      "        1    0.000    0.000    0.000    0.000 {built-in method _thread.allocate_lock}\n",
      "        8    0.000    0.000    0.000    0.000 {built-in method _warnings._filters_mutated}\n",
      "        4    0.000    0.000    0.000    0.000 {built-in method builtins.all}\n",
      "        1    0.000    0.000    0.000    0.000 {built-in method builtins.any}\n",
      "        3    0.000    0.000    0.000    0.000 {built-in method builtins.callable}\n",
      "      2/1    0.000    0.000    0.031    0.031 {built-in method builtins.exec}\n",
      "       59    0.000    0.000    0.000    0.000 {built-in method builtins.getattr}\n",
      "       18    0.000    0.000    0.000    0.000 {built-in method builtins.hasattr}\n",
      "       14    0.000    0.000    0.000    0.000 {built-in method builtins.hash}\n",
      "  435/430    0.000    0.000    0.001    0.000 {built-in method builtins.isinstance}\n",
      "       13    0.000    0.000    0.000    0.000 {built-in method builtins.issubclass}\n",
      "        4    0.000    0.000    0.000    0.000 {built-in method builtins.iter}\n",
      "   105/91    0.000    0.000    0.000    0.000 {built-in method builtins.len}\n",
      "        5    0.000    0.000    0.000    0.000 {built-in method builtins.max}\n",
      "        3    0.000    0.000    0.000    0.000 {built-in method builtins.min}\n",
      "        8    0.000    0.000    0.000    0.000 {built-in method builtins.next}\n",
      "       59    0.000    0.000    0.000    0.000 {built-in method builtins.ord}\n",
      "        1    0.000    0.000    0.000    0.000 {built-in method builtins.sorted}\n",
      "        1    0.000    0.000    0.000    0.000 {built-in method builtins.sum}\n",
      "        1    0.000    0.000    0.000    0.000 {built-in method math.ceil}\n",
      "        1    0.000    0.000    0.000    0.000 {built-in method numpy._core._multiarray_umath._make_extobj}\n",
      "        2    0.003    0.002    0.003    0.002 {built-in method numpy.arange}\n",
      "        3    0.000    0.000    0.000    0.000 {built-in method numpy.array}\n",
      "        4    0.000    0.000    0.000    0.000 {built-in method numpy.asanyarray}\n",
      "        5    0.000    0.000    0.000    0.000 {built-in method numpy.asarray}\n",
      "        7    0.000    0.000    0.000    0.000 {built-in method numpy.empty}\n",
      "        2    0.000    0.000    0.000    0.000 {built-in method numpy.lib.array_utils.normalize_axis_index}\n",
      "        2    0.000    0.000    0.000    0.000 {built-in method posix.getpid}\n",
      "        1    0.000    0.000    0.000    0.000 {built-in method sys.getrefcount}\n",
      "        5    0.000    0.000    0.000    0.000 {built-in method time.monotonic}\n",
      "        1    0.000    0.000    0.000    0.000 {method '__enter__' of '_thread.RLock' objects}\n",
      "        2    0.000    0.000    0.000    0.000 {method '__enter__' of '_thread.lock' objects}\n",
      "        1    0.000    0.000    0.000    0.000 {method '__exit__' of '_thread.RLock' objects}\n",
      "        8    0.000    0.000    0.000    0.000 {method '__exit__' of '_thread.lock' objects}\n",
      "        2    0.003    0.001    0.003    0.001 {method '__exit__' of 'sqlite3.Connection' objects}\n",
      "        1    0.000    0.000    0.000    0.000 {method '_is_owned' of '_thread.RLock' objects}\n",
      "        3    0.000    0.000    0.000    0.000 {method 'acquire' of '_thread.lock' objects}\n",
      "        8    0.000    0.000    0.000    0.000 {method 'append' of 'collections.deque' objects}\n",
      "      234    0.000    0.000    0.000    0.000 {method 'append' of 'list' objects}\n",
      "        1    0.000    0.000    0.000    0.000 {method 'as_arrays' of 'numpy._core._multiarray_umath._array_converter' objects}\n",
      "        1    0.000    0.000    0.000    0.000 {method 'astype' of 'numpy.ndarray' objects}\n",
      "        2    0.000    0.000    0.000    0.000 {method 'cancelled' of '_asyncio.Future' objects}\n",
      "        1    0.004    0.004    0.004    0.004 {method 'copy' of 'numpy.ndarray' objects}\n",
      "        1    0.000    0.000    0.000    0.000 {method 'disable' of '_lsprof.Profiler' objects}\n",
      "        1    0.000    0.000    0.000    0.000 {method 'done' of '_asyncio.Future' objects}\n",
      "        1    0.000    0.000    0.000    0.000 {method 'execute' of 'sqlite3.Connection' objects}\n",
      "        2    0.000    0.000    0.000    0.000 {method 'extend' of 'list' objects}\n",
      "        7    0.000    0.000    0.000    0.000 {method 'get' of 'dict' objects}\n",
      "        3    0.000    0.000    0.000    0.000 {method 'insert' of 'list' objects}\n",
      "        1    0.000    0.000    0.000    0.000 {method 'item' of 'numpy.ndarray' objects}\n",
      "        1    0.000    0.000    0.000    0.000 {method 'items' of 'dict' objects}\n",
      "        3    0.000    0.000    0.000    0.000 {method 'items' of 'mappingproxy' objects}\n",
      "        1    0.000    0.000    0.000    0.000 {method 'keys' of 'dict' objects}\n",
      "        1    0.000    0.000    0.000    0.000 {method 'nonzero' of 'numpy.ndarray' objects}\n",
      "      2/1    0.000    0.000    0.000    0.000 {method 'poll' of 'select.epoll' objects}\n",
      "        1    0.000    0.000    0.000    0.000 {method 'pop' of 'dict' objects}\n",
      "        9    0.000    0.000    0.000    0.000 {method 'popleft' of 'collections.deque' objects}\n",
      "        2    0.000    0.000    0.000    0.000 {method 'ravel' of 'numpy.ndarray' objects}\n",
      "        2    0.000    0.000    0.000    0.000 {method 'recv' of '_socket.socket' objects}\n",
      "        1    0.000    0.000    0.000    0.000 {method 'release' of '_thread.lock' objects}\n",
      "        2    0.000    0.000    0.000    0.000 {method 'remove' of 'list' objects}\n",
      "        1    0.000    0.000    0.000    0.000 {method 'reset' of '_contextvars.ContextVar' objects}\n",
      "        1    0.000    0.000    0.000    0.000 {method 'reshape' of 'numpy.ndarray' objects}\n",
      "      5/2    0.000    0.000    0.003    0.001 {method 'run' of '_contextvars.Context' objects}\n",
      "        1    0.000    0.000    0.000    0.000 {method 'send' of '_socket.socket' objects}\n",
      "        1    0.000    0.000    0.000    0.000 {method 'set' of '_contextvars.ContextVar' objects}\n",
      "        2    0.000    0.000    0.000    0.000 {method 'set_result' of '_asyncio.Future' objects}\n",
      "        2    0.000    0.000    0.000    0.000 {method 'split' of 'str' objects}\n",
      "        1    0.000    0.000    0.000    0.000 {method 'transpose' of 'numpy.ndarray' objects}\n",
      "        6    0.000    0.000    0.000    0.000 {method 'upper' of 'str' objects}\n",
      "        1    0.000    0.000    0.000    0.000 {method 'values' of 'mappingproxy' objects}\n",
      "        1    0.000    0.000    0.000    0.000 {method 'wrap' of 'numpy._core._multiarray_umath._array_converter' objects}\n",
      "\n",
      "\n"
     ]
    }
   ],
   "source": [
    "import cProfile\n",
    "import pandas as pd\n",
    "\n",
    "def process_data():\n",
    "    df = pd.DataFrame({\"A\": range(1_000_000), \"B\": range(1_000_000)})\n",
    "    df[\"C\"] = df[\"A\"] + df[\"B\"]\n",
    "    return df\n",
    "\n",
    "cProfile.run(\"process_data()\")"
   ]
  }
 ],
 "metadata": {
  "kernelspec": {
   "display_name": "VENV",
   "language": "python",
   "name": "python3"
  },
  "language_info": {
   "codemirror_mode": {
    "name": "ipython",
    "version": 3
   },
   "file_extension": ".py",
   "mimetype": "text/x-python",
   "name": "python",
   "nbconvert_exporter": "python",
   "pygments_lexer": "ipython3",
   "version": "3.12.8"
  }
 },
 "nbformat": 4,
 "nbformat_minor": 2
}
